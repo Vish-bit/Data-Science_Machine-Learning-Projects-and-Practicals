{
  "metadata": {
    "kernelspec": {
      "name": "python",
      "display_name": "Python (Pyodide)",
      "language": "python"
    },
    "language_info": {
      "codemirror_mode": {
        "name": "python",
        "version": 3
      },
      "file_extension": ".py",
      "mimetype": "text/x-python",
      "name": "python",
      "nbconvert_exporter": "python",
      "pygments_lexer": "ipython3",
      "version": "3.8"
    },
    "colab": {
      "provenance": []
    }
  },
  "nbformat_minor": 4,
  "nbformat": 4,
  "cells": [
    {
      "cell_type": "markdown",
      "source": "#Provided by AI SOCIETY.\n##Trainer- Sameer Nigam",
      "metadata": {
        "id": "whSVhscb5mp6"
      }
    },
    {
      "cell_type": "markdown",
      "source": "# NumPy Exercises \n\nNow that we've learned about NumPy let's test your knowledge. We'll start off with a few simple tasks, and then you'll be asked some more complicated questions.",
      "metadata": {
        "id": "Vjmmxu1c5mqE"
      }
    },
    {
      "cell_type": "markdown",
      "source": "#### Import NumPy as np",
      "metadata": {
        "id": "I6VNePza5mqN"
      }
    },
    {
      "cell_type": "code",
      "source": "import numpy as np",
      "metadata": {
        "id": "i9ZkXVEg5mqP",
        "trusted": true
      },
      "outputs": [],
      "execution_count": 2
    },
    {
      "cell_type": "markdown",
      "source": "#### Create an array of 10 zeros ",
      "metadata": {
        "id": "3HH017mw5mqR"
      }
    },
    {
      "cell_type": "code",
      "source": "arr = np.zeros(10)\narr",
      "metadata": {
        "id": "8QswcrIe5mqT",
        "outputId": "c1171c04-8fae-4022-d5ab-5340bfb08ac1",
        "trusted": true
      },
      "outputs": [
        {
          "execution_count": 5,
          "output_type": "execute_result",
          "data": {
            "text/plain": "array([0., 0., 0., 0., 0., 0., 0., 0., 0., 0.])"
          },
          "metadata": {}
        }
      ],
      "execution_count": 5
    },
    {
      "cell_type": "markdown",
      "source": "#### Create an array of 10 ones",
      "metadata": {
        "id": "LaDDsX6S5mqW"
      }
    },
    {
      "cell_type": "code",
      "source": "arr[:] = 1\narr",
      "metadata": {
        "id": "MvT7zQ8M5mqY",
        "outputId": "797217da-2602-4576-97f7-de9296ace08c",
        "trusted": true
      },
      "outputs": [
        {
          "execution_count": 8,
          "output_type": "execute_result",
          "data": {
            "text/plain": "array([1., 1., 1., 1., 1., 1., 1., 1., 1., 1.])"
          },
          "metadata": {}
        }
      ],
      "execution_count": 8
    },
    {
      "cell_type": "markdown",
      "source": "#### Create an array of 10 fives",
      "metadata": {
        "id": "ijBEipMe5mqb"
      }
    },
    {
      "cell_type": "code",
      "source": "arr[:] = 5\narr",
      "metadata": {
        "id": "6KoZYiYh5mqd",
        "outputId": "765a6b81-b45a-4ee0-8cd2-d5a81ddbc3a7",
        "trusted": true
      },
      "outputs": [
        {
          "execution_count": 9,
          "output_type": "execute_result",
          "data": {
            "text/plain": "array([5., 5., 5., 5., 5., 5., 5., 5., 5., 5.])"
          },
          "metadata": {}
        }
      ],
      "execution_count": 9
    },
    {
      "cell_type": "markdown",
      "source": "#### Create an array of the integers from 10 to 50",
      "metadata": {
        "id": "01rUgqnQ5mqe"
      }
    },
    {
      "cell_type": "code",
      "source": "arr = np.arange(10, 51)\narr",
      "metadata": {
        "id": "9ssKUlJc5mqf",
        "outputId": "9cfd4faf-6fc5-455a-f46d-2e9195f6c106",
        "trusted": true
      },
      "outputs": [
        {
          "execution_count": 3,
          "output_type": "execute_result",
          "data": {
            "text/plain": "array([10, 11, 12, 13, 14, 15, 16, 17, 18, 19, 20, 21, 22, 23, 24, 25, 26,\n       27, 28, 29, 30, 31, 32, 33, 34, 35, 36, 37, 38, 39, 40, 41, 42, 43,\n       44, 45, 46, 47, 48, 49, 50])"
          },
          "metadata": {}
        }
      ],
      "execution_count": 3
    },
    {
      "cell_type": "markdown",
      "source": "#### Create an array of all the even integers from 10 to 50",
      "metadata": {
        "id": "ngKuxW3f5mqg"
      }
    },
    {
      "cell_type": "code",
      "source": "arr = np.arange(10, 51, 2)\narr",
      "metadata": {
        "id": "a78mahUF5mqh",
        "outputId": "0dab8d14-1d58-4b62-acad-5b49a0e54568",
        "trusted": true
      },
      "outputs": [
        {
          "execution_count": 5,
          "output_type": "execute_result",
          "data": {
            "text/plain": "array([10, 12, 14, 16, 18, 20, 22, 24, 26, 28, 30, 32, 34, 36, 38, 40, 42,\n       44, 46, 48, 50])"
          },
          "metadata": {}
        }
      ],
      "execution_count": 5
    },
    {
      "cell_type": "markdown",
      "source": "#### Create a 3x3 matrix with values ranging from 0 to 8",
      "metadata": {
        "id": "jBWttJI95mqj"
      }
    },
    {
      "cell_type": "code",
      "source": "arr = [[0,1,2],[3,4,5],[6,7,8]]\nnp.array(arr)",
      "metadata": {
        "id": "HWRlUedN5mqk",
        "outputId": "8dc1dc2d-9909-40b6-91e0-6a84d6901729",
        "trusted": true
      },
      "outputs": [
        {
          "execution_count": 7,
          "output_type": "execute_result",
          "data": {
            "text/plain": "array([[0, 1, 2],\n       [3, 4, 5],\n       [6, 7, 8]])"
          },
          "metadata": {}
        }
      ],
      "execution_count": 7
    },
    {
      "cell_type": "markdown",
      "source": "#### Create a 3x3 identity matrix",
      "metadata": {
        "id": "PogLKBYx5mql"
      }
    },
    {
      "cell_type": "code",
      "source": "np.eye(3)",
      "metadata": {
        "id": "z68n4NtW5mqm",
        "outputId": "b911ae1c-7cd3-49d4-8125-2c576fafd916",
        "trusted": true
      },
      "outputs": [
        {
          "execution_count": 9,
          "output_type": "execute_result",
          "data": {
            "text/plain": "array([[1., 0., 0.],\n       [0., 1., 0.],\n       [0., 0., 1.]])"
          },
          "metadata": {}
        }
      ],
      "execution_count": 9
    },
    {
      "cell_type": "markdown",
      "source": "#### Use NumPy to generate a random number between 0 and 1",
      "metadata": {
        "id": "yJXwiOpj5mqn"
      }
    },
    {
      "cell_type": "code",
      "source": "np.random.rand(1,1)",
      "metadata": {
        "id": "MR1b8jXA5mqn",
        "outputId": "cfbd2b29-c827-498b-d884-c463369a2d99",
        "trusted": true
      },
      "outputs": [
        {
          "execution_count": 18,
          "output_type": "execute_result",
          "data": {
            "text/plain": "array([[0.29477609]])"
          },
          "metadata": {}
        }
      ],
      "execution_count": 18
    },
    {
      "cell_type": "markdown",
      "source": "#### Use NumPy to generate an array of 25 random numbers sampled from a standard normal distribution",
      "metadata": {
        "id": "OPP_ADaA5mqs"
      }
    },
    {
      "cell_type": "code",
      "source": "np.random.rand(5,5)",
      "metadata": {
        "id": "-vQO7Kew5mqt",
        "outputId": "0ba8de17-dfcb-4940-8db2-3125cf8d29c3",
        "trusted": true
      },
      "outputs": [
        {
          "execution_count": 19,
          "output_type": "execute_result",
          "data": {
            "text/plain": "array([[0.28077032, 0.01866901, 0.2989973 , 0.28588373, 0.64420814],\n       [0.59660585, 0.89801389, 0.80539656, 0.35218618, 0.27339514],\n       [0.23363061, 0.29871555, 0.27940704, 0.50781012, 0.27384573],\n       [0.66866323, 0.18905967, 0.79599794, 0.23424884, 0.2255999 ],\n       [0.29903144, 0.43508688, 0.0613041 , 0.98656167, 0.09727584]])"
          },
          "metadata": {}
        }
      ],
      "execution_count": 19
    },
    {
      "cell_type": "markdown",
      "source": "#### Create the following matrix:",
      "metadata": {
        "id": "HOJmwW6X5mqu"
      }
    },
    {
      "cell_type": "code",
      "source": "matrix = np.arange(0.01, 1.01, 0.01).reshape(10,10)\nmatrix",
      "metadata": {
        "id": "9JR1VOTS5mqv",
        "outputId": "fcbea246-8c03-4bba-84b7-19df191ff848",
        "trusted": true
      },
      "outputs": [
        {
          "execution_count": 26,
          "output_type": "execute_result",
          "data": {
            "text/plain": "array([[0.01, 0.02, 0.03, 0.04, 0.05, 0.06, 0.07, 0.08, 0.09, 0.1 ],\n       [0.11, 0.12, 0.13, 0.14, 0.15, 0.16, 0.17, 0.18, 0.19, 0.2 ],\n       [0.21, 0.22, 0.23, 0.24, 0.25, 0.26, 0.27, 0.28, 0.29, 0.3 ],\n       [0.31, 0.32, 0.33, 0.34, 0.35, 0.36, 0.37, 0.38, 0.39, 0.4 ],\n       [0.41, 0.42, 0.43, 0.44, 0.45, 0.46, 0.47, 0.48, 0.49, 0.5 ],\n       [0.51, 0.52, 0.53, 0.54, 0.55, 0.56, 0.57, 0.58, 0.59, 0.6 ],\n       [0.61, 0.62, 0.63, 0.64, 0.65, 0.66, 0.67, 0.68, 0.69, 0.7 ],\n       [0.71, 0.72, 0.73, 0.74, 0.75, 0.76, 0.77, 0.78, 0.79, 0.8 ],\n       [0.81, 0.82, 0.83, 0.84, 0.85, 0.86, 0.87, 0.88, 0.89, 0.9 ],\n       [0.91, 0.92, 0.93, 0.94, 0.95, 0.96, 0.97, 0.98, 0.99, 1.  ]])"
          },
          "metadata": {}
        }
      ],
      "execution_count": 26
    },
    {
      "cell_type": "markdown",
      "source": "#### Create an array of 20 linearly spaced points between 0 and 1:",
      "metadata": {
        "id": "vHPKEExL5mqw"
      }
    },
    {
      "cell_type": "code",
      "source": "",
      "metadata": {
        "id": "f5sWoflC5mqx",
        "outputId": "15bc1de7-5e93-425d-fb81-b7bd3b59b5f3"
      },
      "outputs": [
        {
          "data": {
            "text/plain": [
              "array([ 0.        ,  0.05263158,  0.10526316,  0.15789474,  0.21052632,\n",
              "        0.26315789,  0.31578947,  0.36842105,  0.42105263,  0.47368421,\n",
              "        0.52631579,  0.57894737,  0.63157895,  0.68421053,  0.73684211,\n",
              "        0.78947368,  0.84210526,  0.89473684,  0.94736842,  1.        ])"
            ]
          },
          "execution_count": 36,
          "metadata": {},
          "output_type": "execute_result"
        }
      ],
      "execution_count": null
    },
    {
      "cell_type": "markdown",
      "source": "## Numpy Indexing and Selection\n\nNow you will be given a few matrices, and be asked to replicate the resulting matrix outputs:",
      "metadata": {
        "id": "8XpZ1TbI5mqx"
      }
    },
    {
      "cell_type": "code",
      "source": "mat = np.arange(1,26).reshape(5,5)\nmat",
      "metadata": {
        "id": "puOigpvh5mqy",
        "outputId": "68772c40-8635-4984-b23b-224645bc7328"
      },
      "outputs": [
        {
          "data": {
            "text/plain": [
              "array([[ 1,  2,  3,  4,  5],\n",
              "       [ 6,  7,  8,  9, 10],\n",
              "       [11, 12, 13, 14, 15],\n",
              "       [16, 17, 18, 19, 20],\n",
              "       [21, 22, 23, 24, 25]])"
            ]
          },
          "execution_count": 38,
          "metadata": {},
          "output_type": "execute_result"
        }
      ],
      "execution_count": null
    },
    {
      "cell_type": "code",
      "source": "# WRITE CODE HERE THAT REPRODUCES THE OUTPUT OF THE CELL BELOW\n# BE CAREFUL NOT TO RUN THE CELL BELOW, OTHERWISE YOU WON'T\n# BE ABLE TO SEE THE OUTPUT ANY MORE",
      "metadata": {
        "collapsed": true,
        "id": "StczrFTN5mq1",
        "jupyter": {
          "outputs_hidden": true
        }
      },
      "outputs": [],
      "execution_count": null
    },
    {
      "cell_type": "code",
      "source": "arr = np.array([[12,13,14,15],[17,18,19,20],[22,23,24,25]])\narr",
      "metadata": {
        "id": "-5mF5LQE5mq2",
        "outputId": "f912d504-ccdd-4b6b-a1d0-4eee5f8a8270",
        "trusted": true
      },
      "outputs": [
        {
          "execution_count": 32,
          "output_type": "execute_result",
          "data": {
            "text/plain": "array([[12, 13, 14, 15],\n       [17, 18, 19, 20],\n       [22, 23, 24, 25]])"
          },
          "metadata": {}
        }
      ],
      "execution_count": 32
    },
    {
      "cell_type": "code",
      "source": "# WRITE CODE HERE THAT REPRODUCES THE OUTPUT OF THE CELL BELOW\n# BE CAREFUL NOT TO RUN THE CELL BELOW, OTHERWISE YOU WON'T\n# BE ABLE TO SEE THE OUTPUT ANY MORE",
      "metadata": {
        "collapsed": true,
        "id": "J0XSct7K5mq3",
        "jupyter": {
          "outputs_hidden": true
        }
      },
      "outputs": [],
      "execution_count": null
    },
    {
      "cell_type": "code",
      "source": "arr[1,3]",
      "metadata": {
        "id": "o6023GKs5mq5",
        "outputId": "db97a026-dc20-4272-9576-d18e90df8ba7",
        "trusted": true
      },
      "outputs": [
        {
          "execution_count": 34,
          "output_type": "execute_result",
          "data": {
            "text/plain": "20"
          },
          "metadata": {}
        }
      ],
      "execution_count": 34
    },
    {
      "cell_type": "code",
      "source": "# WRITE CODE HERE THAT REPRODUCES THE OUTPUT OF THE CELL BELOW\n# BE CAREFUL NOT TO RUN THE CELL BELOW, OTHERWISE YOU WON'T\n# BE ABLE TO SEE THE OUTPUT ANY MORE",
      "metadata": {
        "id": "tLCbanmx5mq6"
      },
      "outputs": [],
      "execution_count": null
    },
    {
      "cell_type": "code",
      "source": "arr = np.array([[2],[7],[12]])\narr",
      "metadata": {
        "id": "BlmBc_9H5mq7",
        "outputId": "dafdf119-1b3f-4798-af78-339098558ba2",
        "trusted": true
      },
      "outputs": [
        {
          "execution_count": 37,
          "output_type": "execute_result",
          "data": {
            "text/plain": "array([[ 2],\n       [ 7],\n       [12]])"
          },
          "metadata": {}
        }
      ],
      "execution_count": 37
    },
    {
      "cell_type": "code",
      "source": "# WRITE CODE HERE THAT REPRODUCES THE OUTPUT OF THE CELL BELOW\n# BE CAREFUL NOT TO RUN THE CELL BELOW, OTHERWISE YOU WON'T\n# BE ABLE TO SEE THE OUTPUT ANY MORE",
      "metadata": {
        "collapsed": true,
        "id": "X1M2GJ1I5mq7",
        "jupyter": {
          "outputs_hidden": true
        }
      },
      "outputs": [],
      "execution_count": null
    },
    {
      "cell_type": "code",
      "source": "arr = np.arange(21,26)\narr",
      "metadata": {
        "id": "6Jk-m0n-5mq9",
        "outputId": "53aa0932-8b33-4eea-e4f5-11486159c182",
        "trusted": true
      },
      "outputs": [
        {
          "execution_count": 38,
          "output_type": "execute_result",
          "data": {
            "text/plain": "array([21, 22, 23, 24, 25])"
          },
          "metadata": {}
        }
      ],
      "execution_count": 38
    },
    {
      "cell_type": "code",
      "source": "# WRITE CODE HERE THAT REPRODUCES THE OUTPUT OF THE CELL BELOW\n# BE CAREFUL NOT TO RUN THE CELL BELOW, OTHERWISE YOU WON'T\n# BE ABLE TO SEE THE OUTPUT ANY MORE",
      "metadata": {
        "collapsed": true,
        "id": "rhA9UBCo5mq-",
        "jupyter": {
          "outputs_hidden": true
        }
      },
      "outputs": [],
      "execution_count": null
    },
    {
      "cell_type": "code",
      "source": "mat_arr = np.arange(16, 26).reshape(2,5)\nmat_arr",
      "metadata": {
        "id": "sRSyTClY5mq_",
        "outputId": "68311fb5-eadf-4ade-ab71-7062f11c9159",
        "trusted": true
      },
      "outputs": [
        {
          "execution_count": 47,
          "output_type": "execute_result",
          "data": {
            "text/plain": "array([[16, 17, 18, 19, 20],\n       [21, 22, 23, 24, 25]])"
          },
          "metadata": {}
        }
      ],
      "execution_count": 47
    },
    {
      "cell_type": "markdown",
      "source": "### Now do the following",
      "metadata": {
        "id": "KzYer00v5mq_"
      }
    },
    {
      "cell_type": "markdown",
      "source": "#### Get the sum of all the values in mat",
      "metadata": {
        "id": "kA9N9nLR5mrO"
      }
    },
    {
      "cell_type": "code",
      "source": "arr = np.arange(0,25)\narr[:] = 13\nshaped_arr = arr.reshape(5,5)\nsum_arr = np.sum(shaped_arr)\nsum_arr",
      "metadata": {
        "id": "7YaSjyrQ5mrP",
        "outputId": "d0fdf38c-92ff-44c8-ff93-46220401e6a6",
        "trusted": true
      },
      "outputs": [
        {
          "execution_count": 52,
          "output_type": "execute_result",
          "data": {
            "text/plain": "325"
          },
          "metadata": {}
        }
      ],
      "execution_count": 52
    },
    {
      "cell_type": "markdown",
      "source": "#### Get the standard deviation of the values in mat",
      "metadata": {
        "id": "sZ3f4b2G5mrQ"
      }
    },
    {
      "cell_type": "code",
      "source": "np.std(mat_arr)",
      "metadata": {
        "id": "WtcfhYyr5mrQ",
        "outputId": "74971cc1-2911-4ba1-f6bc-de132fa6a9a1",
        "trusted": true
      },
      "outputs": [
        {
          "execution_count": 56,
          "output_type": "execute_result",
          "data": {
            "text/plain": "2.8722813232690143"
          },
          "metadata": {}
        }
      ],
      "execution_count": 56
    },
    {
      "cell_type": "markdown",
      "source": "#### Get the sum of all the columns in mat",
      "metadata": {
        "id": "R5aFCbZY5mrS"
      }
    },
    {
      "cell_type": "code",
      "source": "col_sum = np.sum(mat_arr, axis=0)\ncol_sum",
      "metadata": {
        "id": "0AYjj_Zy5mrS",
        "outputId": "8aa2d1ca-8d41-48a1-f18c-c3269315610d",
        "trusted": true
      },
      "outputs": [
        {
          "execution_count": 57,
          "output_type": "execute_result",
          "data": {
            "text/plain": "array([37, 39, 41, 43, 45])"
          },
          "metadata": {}
        }
      ],
      "execution_count": 57
    },
    {
      "cell_type": "markdown",
      "source": "# Great Job!",
      "metadata": {
        "collapsed": true,
        "id": "UJZ4X0d35mrT",
        "jupyter": {
          "outputs_hidden": true
        }
      }
    }
  ]
}