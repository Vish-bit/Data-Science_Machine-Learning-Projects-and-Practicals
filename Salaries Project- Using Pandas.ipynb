{
  "metadata": {
    "kernelspec": {
      "name": "python",
      "display_name": "Python (Pyodide)",
      "language": "python"
    },
    "language_info": {
      "codemirror_mode": {
        "name": "python",
        "version": 3
      },
      "file_extension": ".py",
      "mimetype": "text/x-python",
      "name": "python",
      "nbconvert_exporter": "python",
      "pygments_lexer": "ipython3",
      "version": "3.8"
    },
    "colab": {
      "provenance": []
    }
  },
  "nbformat_minor": 4,
  "nbformat": 4,
  "cells": [
    {
      "cell_type": "markdown",
      "source": "#Provided by AI SOCIETY.\n##Trainer- Sameer Nigam",
      "metadata": {
        "id": "Lu_wsugc6asF"
      }
    },
    {
      "cell_type": "markdown",
      "source": "# SF Salaries Exercise \n\nWelcome to a quick exercise for you to practice your pandas skills! We will be using the [SF Salaries Dataset](https://www.kaggle.com/kaggle/sf-salaries) from Kaggle! Just follow along and complete the tasks outlined in bold below. The tasks will get harder and harder as you go along.",
      "metadata": {
        "id": "9B3Pb_4K6asN"
      }
    },
    {
      "cell_type": "markdown",
      "source": "** Import pandas as pd.**",
      "metadata": {
        "id": "7OSssa9u6asO"
      }
    },
    {
      "cell_type": "code",
      "source": "import numpy as np\nimport pandas as pd",
      "metadata": {
        "id": "BM5iAprC6asP",
        "trusted": true
      },
      "outputs": [],
      "execution_count": 6
    },
    {
      "cell_type": "markdown",
      "source": "** Read Salaries.csv as a dataframe called sal.**",
      "metadata": {
        "id": "IwD27rzz6asP"
      }
    },
    {
      "cell_type": "code",
      "source": "datafr = pd.read_csv(\"Salaries.csv\")",
      "metadata": {
        "id": "t_CwmWok6asQ",
        "trusted": true
      },
      "outputs": [
        {
          "name": "stderr",
          "text": "<ipython-input-7-cc97aa20ca81>:1: DtypeWarning: Columns (3,4,5,6,12) have mixed types. Specify dtype option on import or set low_memory=False.\n  datafr = pd.read_csv(\"Salaries.csv\")\n",
          "output_type": "stream"
        }
      ],
      "execution_count": 7
    },
    {
      "cell_type": "markdown",
      "source": "** Check the head of the DataFrame. **",
      "metadata": {
        "id": "7TLujFsR6asQ"
      }
    },
    {
      "cell_type": "code",
      "source": "datafr.head(5)",
      "metadata": {
        "id": "KXCnY2xu6asR",
        "outputId": "16293d25-21b6-4ad6-d8ca-1edc0e99e194",
        "trusted": true
      },
      "outputs": [
        {
          "execution_count": 8,
          "output_type": "execute_result",
          "data": {
            "text/plain": "   Id       EmployeeName                                        JobTitle  \\\n0   1     NATHANIEL FORD  GENERAL MANAGER-METROPOLITAN TRANSIT AUTHORITY   \n1   2       GARY JIMENEZ                 CAPTAIN III (POLICE DEPARTMENT)   \n2   3     ALBERT PARDINI                 CAPTAIN III (POLICE DEPARTMENT)   \n3   4  CHRISTOPHER CHONG            WIRE ROPE CABLE MAINTENANCE MECHANIC   \n4   5    PATRICK GARDNER    DEPUTY CHIEF OF DEPARTMENT,(FIRE DEPARTMENT)   \n\n     BasePay OvertimePay   OtherPay Benefits   TotalPay  TotalPayBenefits  \\\n0  167411.18         0.0  400184.25      NaN  567595.43         567595.43   \n1  155966.02   245131.88  137811.38      NaN  538909.28         538909.28   \n2  212739.13   106088.18    16452.6      NaN  335279.91         335279.91   \n3    77916.0    56120.71   198306.9      NaN  332343.61         332343.61   \n4   134401.6      9737.0  182234.59      NaN  326373.19         326373.19   \n\n   Year  Notes         Agency Status  \n0  2011    NaN  San Francisco    NaN  \n1  2011    NaN  San Francisco    NaN  \n2  2011    NaN  San Francisco    NaN  \n3  2011    NaN  San Francisco    NaN  \n4  2011    NaN  San Francisco    NaN  ",
            "text/html": "<div>\n<style scoped>\n    .dataframe tbody tr th:only-of-type {\n        vertical-align: middle;\n    }\n\n    .dataframe tbody tr th {\n        vertical-align: top;\n    }\n\n    .dataframe thead th {\n        text-align: right;\n    }\n</style>\n<table border=\"1\" class=\"dataframe\">\n  <thead>\n    <tr style=\"text-align: right;\">\n      <th></th>\n      <th>Id</th>\n      <th>EmployeeName</th>\n      <th>JobTitle</th>\n      <th>BasePay</th>\n      <th>OvertimePay</th>\n      <th>OtherPay</th>\n      <th>Benefits</th>\n      <th>TotalPay</th>\n      <th>TotalPayBenefits</th>\n      <th>Year</th>\n      <th>Notes</th>\n      <th>Agency</th>\n      <th>Status</th>\n    </tr>\n  </thead>\n  <tbody>\n    <tr>\n      <th>0</th>\n      <td>1</td>\n      <td>NATHANIEL FORD</td>\n      <td>GENERAL MANAGER-METROPOLITAN TRANSIT AUTHORITY</td>\n      <td>167411.18</td>\n      <td>0.0</td>\n      <td>400184.25</td>\n      <td>NaN</td>\n      <td>567595.43</td>\n      <td>567595.43</td>\n      <td>2011</td>\n      <td>NaN</td>\n      <td>San Francisco</td>\n      <td>NaN</td>\n    </tr>\n    <tr>\n      <th>1</th>\n      <td>2</td>\n      <td>GARY JIMENEZ</td>\n      <td>CAPTAIN III (POLICE DEPARTMENT)</td>\n      <td>155966.02</td>\n      <td>245131.88</td>\n      <td>137811.38</td>\n      <td>NaN</td>\n      <td>538909.28</td>\n      <td>538909.28</td>\n      <td>2011</td>\n      <td>NaN</td>\n      <td>San Francisco</td>\n      <td>NaN</td>\n    </tr>\n    <tr>\n      <th>2</th>\n      <td>3</td>\n      <td>ALBERT PARDINI</td>\n      <td>CAPTAIN III (POLICE DEPARTMENT)</td>\n      <td>212739.13</td>\n      <td>106088.18</td>\n      <td>16452.6</td>\n      <td>NaN</td>\n      <td>335279.91</td>\n      <td>335279.91</td>\n      <td>2011</td>\n      <td>NaN</td>\n      <td>San Francisco</td>\n      <td>NaN</td>\n    </tr>\n    <tr>\n      <th>3</th>\n      <td>4</td>\n      <td>CHRISTOPHER CHONG</td>\n      <td>WIRE ROPE CABLE MAINTENANCE MECHANIC</td>\n      <td>77916.0</td>\n      <td>56120.71</td>\n      <td>198306.9</td>\n      <td>NaN</td>\n      <td>332343.61</td>\n      <td>332343.61</td>\n      <td>2011</td>\n      <td>NaN</td>\n      <td>San Francisco</td>\n      <td>NaN</td>\n    </tr>\n    <tr>\n      <th>4</th>\n      <td>5</td>\n      <td>PATRICK GARDNER</td>\n      <td>DEPUTY CHIEF OF DEPARTMENT,(FIRE DEPARTMENT)</td>\n      <td>134401.6</td>\n      <td>9737.0</td>\n      <td>182234.59</td>\n      <td>NaN</td>\n      <td>326373.19</td>\n      <td>326373.19</td>\n      <td>2011</td>\n      <td>NaN</td>\n      <td>San Francisco</td>\n      <td>NaN</td>\n    </tr>\n  </tbody>\n</table>\n</div>"
          },
          "metadata": {}
        }
      ],
      "execution_count": 8
    },
    {
      "cell_type": "markdown",
      "source": "** Use the .info() method to find out how many entries there are.**",
      "metadata": {
        "id": "TVnZjLHz6asU"
      }
    },
    {
      "cell_type": "code",
      "source": "datafr.info()",
      "metadata": {
        "id": "CXt3rMXY6asW",
        "outputId": "495a24fa-8f93-4458-ec13-4d2850d9ff7e",
        "trusted": true
      },
      "outputs": [
        {
          "name": "stdout",
          "text": "<class 'pandas.core.frame.DataFrame'>\nRangeIndex: 148654 entries, 0 to 148653\nData columns (total 13 columns):\n #   Column            Non-Null Count   Dtype  \n---  ------            --------------   -----  \n 0   Id                148654 non-null  int64  \n 1   EmployeeName      148654 non-null  object \n 2   JobTitle          148654 non-null  object \n 3   BasePay           148049 non-null  object \n 4   OvertimePay       148654 non-null  object \n 5   OtherPay          148654 non-null  object \n 6   Benefits          112495 non-null  object \n 7   TotalPay          148654 non-null  float64\n 8   TotalPayBenefits  148654 non-null  float64\n 9   Year              148654 non-null  int64  \n 10  Notes             0 non-null       float64\n 11  Agency            148654 non-null  object \n 12  Status            38119 non-null   object \ndtypes: float64(3), int64(2), object(8)\nmemory usage: 10.2+ MB\n",
          "output_type": "stream"
        }
      ],
      "execution_count": 6
    },
    {
      "cell_type": "markdown",
      "source": "**What is the average BasePay ?**",
      "metadata": {
        "id": "ExPdI8mS6asX"
      }
    },
    {
      "cell_type": "code",
      "source": "numeric_val = pd.to_numeric(datafr['BasePay'],errors='coerce')\nnumeric_val.mean()",
      "metadata": {
        "id": "ctRKnkU66asY",
        "outputId": "508bffed-aaa5-41f3-f7f1-e8b0bf54ca7a",
        "trusted": true
      },
      "outputs": [
        {
          "execution_count": 36,
          "output_type": "execute_result",
          "data": {
            "text/plain": "66325.4488404877"
          },
          "metadata": {}
        }
      ],
      "execution_count": 36
    },
    {
      "cell_type": "markdown",
      "source": "** What is the highest amount of OvertimePay in the dataset ? **",
      "metadata": {
        "id": "7wphlI7O6asY"
      }
    },
    {
      "cell_type": "code",
      "source": "max_val = pd.to_numeric(datafr['OvertimePay'],errors='coerce')\nmax_val.max()\n",
      "metadata": {
        "id": "rkMzY4U06asZ",
        "outputId": "76de7bff-0ead-42d3-f304-a04ba896ddab",
        "trusted": true
      },
      "outputs": [
        {
          "execution_count": 37,
          "output_type": "execute_result",
          "data": {
            "text/plain": "245131.88"
          },
          "metadata": {}
        }
      ],
      "execution_count": 37
    },
    {
      "cell_type": "markdown",
      "source": "** What is the job title of  JOSEPH DRISCOLL ? Note: Use all caps, otherwise you may get an answer that doesn't match up (there is also a lowercase Joseph Driscoll). **",
      "metadata": {
        "id": "B0zB2KzQ6asZ"
      }
    },
    {
      "cell_type": "code",
      "source": "emp_name = \"JOSEPH DRISCOLL\"\ndatafr.loc[datafr[\"EmployeeName\"] == emp_name, \"JobTitle\"]",
      "metadata": {
        "trusted": true
      },
      "outputs": [
        {
          "execution_count": 9,
          "output_type": "execute_result",
          "data": {
            "text/plain": "24    CAPTAIN, FIRE SUPPRESSION\nName: JobTitle, dtype: object"
          },
          "metadata": {}
        }
      ],
      "execution_count": 9
    },
    {
      "cell_type": "markdown",
      "source": "** How much does JOSEPH DRISCOLL make (including benefits)? **",
      "metadata": {
        "id": "QG6blOy96asa"
      }
    },
    {
      "cell_type": "code",
      "source": "datafr.loc[datafr[\"EmployeeName\"] == emp_name, \"TotalPayBenefits\"]",
      "metadata": {
        "trusted": true
      },
      "outputs": [
        {
          "execution_count": 15,
          "output_type": "execute_result",
          "data": {
            "text/plain": "24    270324.91\nName: TotalPayBenefits, dtype: float64"
          },
          "metadata": {}
        }
      ],
      "execution_count": 15
    },
    {
      "cell_type": "markdown",
      "source": "** What is the name of highest paid person (including benefits)?",
      "metadata": {
        "id": "QG6blOy96asa"
      }
    },
    {
      "cell_type": "code",
      "source": "highest_val = datafr[\"TotalPayBenefits\"].idxmax()\npd.DataFrame(datafr.loc[highest_val]).transpose()",
      "metadata": {
        "trusted": true
      },
      "outputs": [
        {
          "execution_count": 25,
          "output_type": "execute_result",
          "data": {
            "text/plain": "  Id    EmployeeName                                        JobTitle  \\\n0  1  NATHANIEL FORD  GENERAL MANAGER-METROPOLITAN TRANSIT AUTHORITY   \n\n     BasePay OvertimePay   OtherPay Benefits   TotalPay TotalPayBenefits  \\\n0  167411.18         0.0  400184.25      NaN  567595.43        567595.43   \n\n   Year Notes         Agency Status  \n0  2011   NaN  San Francisco    NaN  ",
            "text/html": "<div>\n<style scoped>\n    .dataframe tbody tr th:only-of-type {\n        vertical-align: middle;\n    }\n\n    .dataframe tbody tr th {\n        vertical-align: top;\n    }\n\n    .dataframe thead th {\n        text-align: right;\n    }\n</style>\n<table border=\"1\" class=\"dataframe\">\n  <thead>\n    <tr style=\"text-align: right;\">\n      <th></th>\n      <th>Id</th>\n      <th>EmployeeName</th>\n      <th>JobTitle</th>\n      <th>BasePay</th>\n      <th>OvertimePay</th>\n      <th>OtherPay</th>\n      <th>Benefits</th>\n      <th>TotalPay</th>\n      <th>TotalPayBenefits</th>\n      <th>Year</th>\n      <th>Notes</th>\n      <th>Agency</th>\n      <th>Status</th>\n    </tr>\n  </thead>\n  <tbody>\n    <tr>\n      <th>0</th>\n      <td>1</td>\n      <td>NATHANIEL FORD</td>\n      <td>GENERAL MANAGER-METROPOLITAN TRANSIT AUTHORITY</td>\n      <td>167411.18</td>\n      <td>0.0</td>\n      <td>400184.25</td>\n      <td>NaN</td>\n      <td>567595.43</td>\n      <td>567595.43</td>\n      <td>2011</td>\n      <td>NaN</td>\n      <td>San Francisco</td>\n      <td>NaN</td>\n    </tr>\n  </tbody>\n</table>\n</div>"
          },
          "metadata": {}
        }
      ],
      "execution_count": 25
    },
    {
      "cell_type": "markdown",
      "source": "** What is the name of lowest paid person (including benefits)? Do you notice something strange about how much he or she is paid?**",
      "metadata": {
        "id": "ssOCz6cZ6asc"
      }
    },
    {
      "cell_type": "code",
      "source": "lowest_val = datafr[\"TotalPayBenefits\"].idxmin()\npd.DataFrame(datafr.loc[lowest_val]).transpose()",
      "metadata": {
        "id": "1HZXSKlf6asc",
        "outputId": "db7f06f7-c260-4d08-e472-7cde7a566f3e",
        "trusted": true
      },
      "outputs": [
        {
          "execution_count": 26,
          "output_type": "execute_result",
          "data": {
            "text/plain": "            Id EmployeeName                    JobTitle BasePay OvertimePay  \\\n148653  148654    Joe Lopez  Counselor, Log Cabin Ranch    0.00        0.00   \n\n       OtherPay Benefits TotalPay TotalPayBenefits  Year Notes         Agency  \\\n148653  -618.13     0.00  -618.13          -618.13  2014   NaN  San Francisco   \n\n       Status  \n148653     PT  ",
            "text/html": "<div>\n<style scoped>\n    .dataframe tbody tr th:only-of-type {\n        vertical-align: middle;\n    }\n\n    .dataframe tbody tr th {\n        vertical-align: top;\n    }\n\n    .dataframe thead th {\n        text-align: right;\n    }\n</style>\n<table border=\"1\" class=\"dataframe\">\n  <thead>\n    <tr style=\"text-align: right;\">\n      <th></th>\n      <th>Id</th>\n      <th>EmployeeName</th>\n      <th>JobTitle</th>\n      <th>BasePay</th>\n      <th>OvertimePay</th>\n      <th>OtherPay</th>\n      <th>Benefits</th>\n      <th>TotalPay</th>\n      <th>TotalPayBenefits</th>\n      <th>Year</th>\n      <th>Notes</th>\n      <th>Agency</th>\n      <th>Status</th>\n    </tr>\n  </thead>\n  <tbody>\n    <tr>\n      <th>148653</th>\n      <td>148654</td>\n      <td>Joe Lopez</td>\n      <td>Counselor, Log Cabin Ranch</td>\n      <td>0.00</td>\n      <td>0.00</td>\n      <td>-618.13</td>\n      <td>0.00</td>\n      <td>-618.13</td>\n      <td>-618.13</td>\n      <td>2014</td>\n      <td>NaN</td>\n      <td>San Francisco</td>\n      <td>PT</td>\n    </tr>\n  </tbody>\n</table>\n</div>"
          },
          "metadata": {}
        }
      ],
      "execution_count": 26
    },
    {
      "cell_type": "markdown",
      "source": "** What was the average (mean) BasePay of all employees per year? (2011-2014) ? **",
      "metadata": {
        "id": "wcFzmlwY6asc"
      }
    },
    {
      "cell_type": "code",
      "source": "numeric_val = pd.to_numeric(datafr['BasePay'],errors='coerce')\ndatafr[\"NumericBasePay\"] = numeric_val.dropna()\ndatafr.groupby(\"Year\")[\"NumericBasePay\"].mean()",
      "metadata": {
        "trusted": true
      },
      "outputs": [
        {
          "execution_count": 37,
          "output_type": "execute_result",
          "data": {
            "text/plain": "Year\n2011    63595.956517\n2012    65436.406857\n2013    69630.030216\n2014    66564.421924\nName: NumericBasePay, dtype: float64"
          },
          "metadata": {}
        }
      ],
      "execution_count": 37
    },
    {
      "cell_type": "markdown",
      "source": "** How many unique job titles are there? **",
      "metadata": {
        "id": "Zo8TWkxK6asd"
      }
    },
    {
      "cell_type": "code",
      "source": "datafr[\"JobTitle\"].nunique()",
      "metadata": {
        "id": "6KL4dzhO6asd",
        "outputId": "7d36b4d3-2102-4c87-b982-9cc04ab607bd",
        "trusted": true
      },
      "outputs": [
        {
          "execution_count": 38,
          "output_type": "execute_result",
          "data": {
            "text/plain": "2159"
          },
          "metadata": {}
        }
      ],
      "execution_count": 38
    },
    {
      "cell_type": "markdown",
      "source": "** What are the top 5 most common jobs? **",
      "metadata": {
        "id": "SAit2BhM6ase"
      }
    },
    {
      "cell_type": "code",
      "source": "datafr[\"JobTitle\"].value_counts().head(5)",
      "metadata": {
        "trusted": true
      },
      "outputs": [
        {
          "execution_count": 42,
          "output_type": "execute_result",
          "data": {
            "text/plain": "Transit Operator                7036\nSpecial Nurse                   4389\nRegistered Nurse                3736\nPublic Svc Aide-Public Works    2518\nPolice Officer 3                2421\nName: JobTitle, dtype: int64"
          },
          "metadata": {}
        }
      ],
      "execution_count": 42
    },
    {
      "cell_type": "markdown",
      "source": "** How many Job Titles were represented by only one person in 2013? (e.g. Job Titles with only one occurence in 2013?) **",
      "metadata": {
        "id": "1_9lvzPM6ase"
      }
    },
    {
      "cell_type": "code",
      "source": "# data_2013 = datafr[datafr[\"Year\"] == 2013]\njob_count = datafr[datafr[\"Year\"] == 2013][\"JobTitle\"].value_counts()\none_person_job = job_count[job_count == 1]\nlen(one_person_job)",
      "metadata": {
        "trusted": true
      },
      "outputs": [
        {
          "execution_count": 55,
          "output_type": "execute_result",
          "data": {
            "text/plain": "202"
          },
          "metadata": {}
        }
      ],
      "execution_count": 55
    },
    {
      "cell_type": "markdown",
      "source": "** How many people have the word Chief in their job title? (This is pretty tricky) **",
      "metadata": {
        "id": "0Cz8kbLF6asf"
      }
    },
    {
      "cell_type": "code",
      "source": "def find_string(str):\n    if 'chief' in str.lower().split():\n        return True\n    else:\n        return False",
      "metadata": {
        "trusted": true
      },
      "outputs": [],
      "execution_count": 29
    },
    {
      "cell_type": "code",
      "source": "sum(datafr['JobTitle'].apply(lambda x: find_string(x)))",
      "metadata": {
        "id": "pOC3a1s16asg",
        "outputId": "cc40dada-4076-4134-fa1f-feda2f5b0aab",
        "trusted": true
      },
      "outputs": [
        {
          "execution_count": 30,
          "output_type": "execute_result",
          "data": {
            "text/plain": "477"
          },
          "metadata": {}
        }
      ],
      "execution_count": 30
    },
    {
      "cell_type": "markdown",
      "source": "** Bonus: Is there a correlation between length of the Job Title string and Salary? **",
      "metadata": {
        "id": "WiO2R73k6asg"
      }
    },
    {
      "cell_type": "code",
      "source": "datafr['title_len'] = datafr['JobTitle'].apply(len)",
      "metadata": {
        "id": "KjmtQEJv6asg",
        "trusted": true
      },
      "outputs": [],
      "execution_count": 31
    },
    {
      "cell_type": "code",
      "source": "datafr[['title_len', 'TotalPayBenefits']].corr()",
      "metadata": {
        "id": "AgR7C-VG6asg",
        "outputId": "701a040d-b2b2-45a0-ed48-83b3800910f8",
        "trusted": true
      },
      "outputs": [
        {
          "execution_count": 34,
          "output_type": "execute_result",
          "data": {
            "text/plain": "                  title_len  TotalPayBenefits\ntitle_len          1.000000         -0.036878\nTotalPayBenefits  -0.036878          1.000000",
            "text/html": "<div>\n<style scoped>\n    .dataframe tbody tr th:only-of-type {\n        vertical-align: middle;\n    }\n\n    .dataframe tbody tr th {\n        vertical-align: top;\n    }\n\n    .dataframe thead th {\n        text-align: right;\n    }\n</style>\n<table border=\"1\" class=\"dataframe\">\n  <thead>\n    <tr style=\"text-align: right;\">\n      <th></th>\n      <th>title_len</th>\n      <th>TotalPayBenefits</th>\n    </tr>\n  </thead>\n  <tbody>\n    <tr>\n      <th>title_len</th>\n      <td>1.000000</td>\n      <td>-0.036878</td>\n    </tr>\n    <tr>\n      <th>TotalPayBenefits</th>\n      <td>-0.036878</td>\n      <td>1.000000</td>\n    </tr>\n  </tbody>\n</table>\n</div>"
          },
          "metadata": {}
        }
      ],
      "execution_count": 34
    },
    {
      "cell_type": "markdown",
      "source": "# Great Job!",
      "metadata": {
        "id": "YZcVCnCU6ash"
      }
    }
  ]
}